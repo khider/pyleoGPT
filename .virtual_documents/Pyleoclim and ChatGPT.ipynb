


import pyleoclim as pyleo

# Example data
time = [1, 2, 3, 4, 5]  # e.g., years, centuries, or any other time unit
values = [0.1, 0.2, 0.3, 0.2, 0.1]  # e.g., temperature anomalies, δ18O values, etc.

# Create a Series object
series = pyleo.Series(time=time, value=values)

# Display the Series object
print(series)

# Plot the series (if you want to visualize it)
series.plot()





import pandas as pd

# FTP URL for the dataset
url = 'ftp://ftp.ncdc.noaa.gov/pub/data/paleo/icecore/antarctica/antarctica2015co2composite.txt'

# Load the dataset into a pandas DataFrame
# Assuming the data starts after a header of a certain number of lines (e.g., skiprows=64)
# You might need to adjust the 'skiprows' parameter based on the actual file structure
df = pd.read_csv(url, sep='\t', comment='#', header=1, engine='python')

# Display the first few rows of the DataFrame
print(df.head())





# Assuming the first column is 'time' and the second column is your data value
# Adjust column names as necessary based on your actual data
time = df.iloc[:, 0]  # Selects the first column
values = df.iloc[:, 1]  # Selects the second column

# Create a Pyleoclim Series object
series = pyleo.Series(time=time, value=values)

# Now, you can work with the Pyleoclim Series object
# For example, to plot the series:
series.plot()





time_column_name = df.columns[0]  # Name of the first column for time
value_column_name = df.columns[1]  # Name of the second column for values

time = df[time_column_name]  # Selects the time column using its header
values = df[value_column_name]  # Selects the values column using its header

# Create a Pyleoclim Series object using column headers as names for time and value
series = pyleo.Series(time=time, value=values, time_name=time_column_name, value_name=value_column_name)

# Now, you can work with the Pyleoclim Series object
# For example, to plot the series:
series.plot()





time_column_name = df.columns[0]  # Name of the first column for time
value_column_name = df.columns[1]  # Name of the second column for values

time = df[time_column_name]  # Selects the time column using its header
values = df[value_column_name]  # Selects the values column using its header

# Create a Pyleoclim Series object using column headers as names for time and value
series = pyleo.Series(time=time, value=values, time_name='Age', value_name='CO2', time_unit='Years BP',value_unit='ppm')

# Now, you can work with the Pyleoclim Series object
# For example, to plot the series:
series.plot()





# Assuming 'series' is your Series object
# Perform spectral analysis
spec_result = series.spectral(method='lomb-scargle',
                              psd=True,  # Set to True to return the power spectral density
                              sig=True,  # Set to True to perform significance testing
                              )

# Plot the spectral analysis result
spec_result.plot()






# Assuming 'series' is your Series object
# Perform spectral analysis
spec_result = series.spectral(method='lomb_scargle')

# Plot the spectral analysis result
spec_result.plot()



